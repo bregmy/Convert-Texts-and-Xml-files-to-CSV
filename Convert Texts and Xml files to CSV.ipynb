{
 "cells": [
  {
   "cell_type": "code",
   "execution_count": null,
   "id": "e0888741",
   "metadata": {},
   "outputs": [],
   "source": [
    "import csv\n",
    "import os\n",
    "import pandas as pd\n",
    "res=[]\n",
    "\n",
    "\n",
    "path_of_the_directory=\"your path\"\n",
    "for filename in os.listdir(path_of_the_directory):\n",
    "    f = os.path.join(path_of_the_directory,filename)\n",
    "    if os.path.isfile(f):\n",
    "        res.append(filename)\n",
    "        \n",
    "        \n",
    "        \n",
    "import os\n",
    "#Stored all the collections of text files in res array\n",
    "res=[]\n",
    "print(\"Files and directories in a specified path:\")\n",
    "for filename in os.listdir(path_of_the_directory):\n",
    "    f = os.path.join(path_of_the_directory,filename)\n",
    "    if os.path.isfile(f):\n",
    "        res.append(filename)\n",
    "        \n",
    "\n",
    "        \n",
    "        \n",
    "#CSV Header\n",
    "#stored txt file and xm file in two different row\n",
    "header=['row1',\"row2\"]\n",
    "data=[]\n",
    "for i in range(len(res)):\n",
    "    caption=open(path_of_the_directory+\"/\"+res[i],\"rt\")\n",
    "    \n",
    "    dataa=caption.read()\n",
    "    string=res[i][:-4]\n",
    "    data.append([dataa,string])\n",
    "   \n",
    "    \n",
    "\n",
    "with open('name.csv', 'w', encoding='UTF8', newline='') as f:\n",
    "    writer = csv.writer(f)\n",
    "    #write the header\n",
    "    writer.writerow(header)\n",
    "    #write multiple rows\n",
    "    writer.writerows(data)\n",
    "print(data)\n",
    "    "
   ]
  }
 ],
 "metadata": {
  "kernelspec": {
   "display_name": "Python 3",
   "language": "python",
   "name": "python3"
  },
  "language_info": {
   "codemirror_mode": {
    "name": "ipython",
    "version": 3
   },
   "file_extension": ".py",
   "mimetype": "text/x-python",
   "name": "python",
   "nbconvert_exporter": "python",
   "pygments_lexer": "ipython3",
   "version": "3.8.8"
  }
 },
 "nbformat": 4,
 "nbformat_minor": 5
}
